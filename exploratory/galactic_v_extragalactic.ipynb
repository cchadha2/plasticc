{
 "cells": [
  {
   "cell_type": "code",
   "execution_count": 2,
   "metadata": {},
   "outputs": [],
   "source": [
    "import pandas as pd\n",
    "import numpy as np\n",
    "import matplotlib.pyplot as plt"
   ]
  },
  {
   "cell_type": "code",
   "execution_count": 32,
   "metadata": {},
   "outputs": [],
   "source": [
    "train = pd.read_csv('../output/processed_train_1.4.csv')"
   ]
  },
  {
   "cell_type": "code",
   "execution_count": 33,
   "metadata": {},
   "outputs": [
    {
     "data": {
      "text/html": [
       "<div>\n",
       "<style scoped>\n",
       "    .dataframe tbody tr th:only-of-type {\n",
       "        vertical-align: middle;\n",
       "    }\n",
       "\n",
       "    .dataframe tbody tr th {\n",
       "        vertical-align: top;\n",
       "    }\n",
       "\n",
       "    .dataframe thead th {\n",
       "        text-align: right;\n",
       "    }\n",
       "</style>\n",
       "<table border=\"1\" class=\"dataframe\">\n",
       "  <thead>\n",
       "    <tr style=\"text-align: right;\">\n",
       "      <th></th>\n",
       "      <th>object_id</th>\n",
       "      <th>hostgal_photoz</th>\n",
       "      <th>hostgal_photoz_err</th>\n",
       "      <th>mwebv</th>\n",
       "      <th>target</th>\n",
       "      <th>hostgal_photoz_uncertainty</th>\n",
       "      <th>hostgal_photoz_ratio_sq</th>\n",
       "      <th>hostgal_photoz_by_hostgal_photoz_ratio_sq</th>\n",
       "      <th>flux_min</th>\n",
       "      <th>flux_max</th>\n",
       "      <th>...</th>\n",
       "      <th>3__skewness</th>\n",
       "      <th>4__fft_coefficient__coeff_0__attr_\"abs\"</th>\n",
       "      <th>4__fft_coefficient__coeff_1__attr_\"abs\"</th>\n",
       "      <th>4__kurtosis</th>\n",
       "      <th>4__skewness</th>\n",
       "      <th>5__fft_coefficient__coeff_0__attr_\"abs\"</th>\n",
       "      <th>5__fft_coefficient__coeff_1__attr_\"abs\"</th>\n",
       "      <th>5__kurtosis</th>\n",
       "      <th>5__skewness</th>\n",
       "      <th>mjd_diff_det</th>\n",
       "    </tr>\n",
       "  </thead>\n",
       "  <tbody>\n",
       "    <tr>\n",
       "      <th>0</th>\n",
       "      <td>615</td>\n",
       "      <td>0.0000</td>\n",
       "      <td>0.0000</td>\n",
       "      <td>0.017</td>\n",
       "      <td>92</td>\n",
       "      <td>NaN</td>\n",
       "      <td>NaN</td>\n",
       "      <td>NaN</td>\n",
       "      <td>-1100.440063</td>\n",
       "      <td>660.626343</td>\n",
       "      <td>...</td>\n",
       "      <td>0.293128</td>\n",
       "      <td>3245.366349</td>\n",
       "      <td>2741.539785</td>\n",
       "      <td>-1.548319</td>\n",
       "      <td>0.200096</td>\n",
       "      <td>2704.641265</td>\n",
       "      <td>2893.344217</td>\n",
       "      <td>-1.592820</td>\n",
       "      <td>0.125268</td>\n",
       "      <td>873.7903</td>\n",
       "    </tr>\n",
       "    <tr>\n",
       "      <th>1</th>\n",
       "      <td>713</td>\n",
       "      <td>1.6267</td>\n",
       "      <td>0.2552</td>\n",
       "      <td>0.007</td>\n",
       "      <td>88</td>\n",
       "      <td>15.688203</td>\n",
       "      <td>40.630633</td>\n",
       "      <td>66.093851</td>\n",
       "      <td>-14.735178</td>\n",
       "      <td>14.770886</td>\n",
       "      <td>...</td>\n",
       "      <td>-0.167176</td>\n",
       "      <td>50.414646</td>\n",
       "      <td>203.892482</td>\n",
       "      <td>-1.190245</td>\n",
       "      <td>-0.064134</td>\n",
       "      <td>100.473776</td>\n",
       "      <td>143.963093</td>\n",
       "      <td>-0.797047</td>\n",
       "      <td>0.218182</td>\n",
       "      <td>846.8017</td>\n",
       "    </tr>\n",
       "    <tr>\n",
       "      <th>2</th>\n",
       "      <td>730</td>\n",
       "      <td>0.2262</td>\n",
       "      <td>0.0157</td>\n",
       "      <td>0.021</td>\n",
       "      <td>42</td>\n",
       "      <td>6.940760</td>\n",
       "      <td>207.580186</td>\n",
       "      <td>46.954638</td>\n",
       "      <td>-19.159811</td>\n",
       "      <td>47.310059</td>\n",
       "      <td>...</td>\n",
       "      <td>2.662075</td>\n",
       "      <td>219.745132</td>\n",
       "      <td>202.532898</td>\n",
       "      <td>6.081065</td>\n",
       "      <td>2.537802</td>\n",
       "      <td>231.509177</td>\n",
       "      <td>199.286370</td>\n",
       "      <td>3.583130</td>\n",
       "      <td>1.680352</td>\n",
       "      <td>78.7737</td>\n",
       "    </tr>\n",
       "    <tr>\n",
       "      <th>3</th>\n",
       "      <td>745</td>\n",
       "      <td>0.2813</td>\n",
       "      <td>1.1523</td>\n",
       "      <td>0.007</td>\n",
       "      <td>90</td>\n",
       "      <td>409.633843</td>\n",
       "      <td>0.059595</td>\n",
       "      <td>0.016764</td>\n",
       "      <td>-15.494463</td>\n",
       "      <td>220.795212</td>\n",
       "      <td>...</td>\n",
       "      <td>3.751603</td>\n",
       "      <td>735.528417</td>\n",
       "      <td>680.055280</td>\n",
       "      <td>13.747434</td>\n",
       "      <td>3.476420</td>\n",
       "      <td>591.037583</td>\n",
       "      <td>523.503586</td>\n",
       "      <td>12.134629</td>\n",
       "      <td>3.170857</td>\n",
       "      <td>123.6872</td>\n",
       "    </tr>\n",
       "    <tr>\n",
       "      <th>4</th>\n",
       "      <td>1124</td>\n",
       "      <td>0.2415</td>\n",
       "      <td>0.0176</td>\n",
       "      <td>0.024</td>\n",
       "      <td>90</td>\n",
       "      <td>7.287785</td>\n",
       "      <td>188.282057</td>\n",
       "      <td>45.470117</td>\n",
       "      <td>-16.543753</td>\n",
       "      <td>143.600189</td>\n",
       "      <td>...</td>\n",
       "      <td>3.603208</td>\n",
       "      <td>574.553907</td>\n",
       "      <td>524.107264</td>\n",
       "      <td>16.377058</td>\n",
       "      <td>3.904008</td>\n",
       "      <td>393.114268</td>\n",
       "      <td>357.907185</td>\n",
       "      <td>14.434470</td>\n",
       "      <td>3.657305</td>\n",
       "      <td>133.9113</td>\n",
       "    </tr>\n",
       "  </tbody>\n",
       "</table>\n",
       "<p>5 rows × 72 columns</p>\n",
       "</div>"
      ],
      "text/plain": [
       "   object_id  hostgal_photoz  hostgal_photoz_err  mwebv  target  \\\n",
       "0        615          0.0000              0.0000  0.017      92   \n",
       "1        713          1.6267              0.2552  0.007      88   \n",
       "2        730          0.2262              0.0157  0.021      42   \n",
       "3        745          0.2813              1.1523  0.007      90   \n",
       "4       1124          0.2415              0.0176  0.024      90   \n",
       "\n",
       "   hostgal_photoz_uncertainty  hostgal_photoz_ratio_sq  \\\n",
       "0                         NaN                      NaN   \n",
       "1                   15.688203                40.630633   \n",
       "2                    6.940760               207.580186   \n",
       "3                  409.633843                 0.059595   \n",
       "4                    7.287785               188.282057   \n",
       "\n",
       "   hostgal_photoz_by_hostgal_photoz_ratio_sq     flux_min    flux_max  \\\n",
       "0                                        NaN -1100.440063  660.626343   \n",
       "1                                  66.093851   -14.735178   14.770886   \n",
       "2                                  46.954638   -19.159811   47.310059   \n",
       "3                                   0.016764   -15.494463  220.795212   \n",
       "4                                  45.470117   -16.543753  143.600189   \n",
       "\n",
       "       ...       3__skewness  4__fft_coefficient__coeff_0__attr_\"abs\"  \\\n",
       "0      ...          0.293128                              3245.366349   \n",
       "1      ...         -0.167176                                50.414646   \n",
       "2      ...          2.662075                               219.745132   \n",
       "3      ...          3.751603                               735.528417   \n",
       "4      ...          3.603208                               574.553907   \n",
       "\n",
       "   4__fft_coefficient__coeff_1__attr_\"abs\"  4__kurtosis  4__skewness  \\\n",
       "0                              2741.539785    -1.548319     0.200096   \n",
       "1                               203.892482    -1.190245    -0.064134   \n",
       "2                               202.532898     6.081065     2.537802   \n",
       "3                               680.055280    13.747434     3.476420   \n",
       "4                               524.107264    16.377058     3.904008   \n",
       "\n",
       "   5__fft_coefficient__coeff_0__attr_\"abs\"  \\\n",
       "0                              2704.641265   \n",
       "1                               100.473776   \n",
       "2                               231.509177   \n",
       "3                               591.037583   \n",
       "4                               393.114268   \n",
       "\n",
       "   5__fft_coefficient__coeff_1__attr_\"abs\"  5__kurtosis  5__skewness  \\\n",
       "0                              2893.344217    -1.592820     0.125268   \n",
       "1                               143.963093    -0.797047     0.218182   \n",
       "2                               199.286370     3.583130     1.680352   \n",
       "3                               523.503586    12.134629     3.170857   \n",
       "4                               357.907185    14.434470     3.657305   \n",
       "\n",
       "   mjd_diff_det  \n",
       "0      873.7903  \n",
       "1      846.8017  \n",
       "2       78.7737  \n",
       "3      123.6872  \n",
       "4      133.9113  \n",
       "\n",
       "[5 rows x 72 columns]"
      ]
     },
     "execution_count": 33,
     "metadata": {},
     "output_type": "execute_result"
    }
   ],
   "source": [
    "train.head()"
   ]
  },
  {
   "cell_type": "code",
   "execution_count": 34,
   "metadata": {},
   "outputs": [
    {
     "data": {
      "text/plain": [
       "65    981\n",
       "16    924\n",
       "92    239\n",
       "6     151\n",
       "53     30\n",
       "Name: target, dtype: int64"
      ]
     },
     "execution_count": 34,
     "metadata": {},
     "output_type": "execute_result"
    }
   ],
   "source": [
    "train[train['hostgal_photoz'] == 0]['target'].value_counts()"
   ]
  },
  {
   "cell_type": "code",
   "execution_count": 35,
   "metadata": {},
   "outputs": [
    {
     "data": {
      "text/plain": [
       "90    2313\n",
       "42    1193\n",
       "15     495\n",
       "62     484\n",
       "88     370\n",
       "67     208\n",
       "52     183\n",
       "95     175\n",
       "64     102\n",
       "Name: target, dtype: int64"
      ]
     },
     "execution_count": 35,
     "metadata": {},
     "output_type": "execute_result"
    }
   ],
   "source": [
    "train[train['hostgal_photoz'] > 0]['target'].value_counts()"
   ]
  },
  {
   "cell_type": "code",
   "execution_count": 36,
   "metadata": {},
   "outputs": [],
   "source": [
    "targets = np.hstack([np.unique(train['target']), [99]])\n",
    "target_map = {j:i for i, j in enumerate(targets)}\n",
    "target_ids = [target_map[i] for i in train['target']]\n",
    "train['target_id'] = target_ids"
   ]
  },
  {
   "cell_type": "code",
   "execution_count": 37,
   "metadata": {},
   "outputs": [
    {
     "data": {
      "image/png": "[encoded data removed]",
      "text/plain": [
       "<Figure size 720x576 with 1 Axes>"
      ]
     },
     "metadata": {
      "needs_background": "light"
     },
     "output_type": "display_data"
    }
   ],
   "source": [
    "galactic_cut = train['hostgal_photoz'] == 0\n",
    "plt.figure(figsize=(10, 8))\n",
    "plt.hist(train[galactic_cut]['target_id'], 15, (0, 15), alpha=0.5, label='Galactic')\n",
    "plt.hist(train[~galactic_cut]['target_id'], 15, (0, 15), alpha=0.5, label='Extragalactic')\n",
    "plt.xticks(np.arange(15)+0.5, targets)\n",
    "plt.gca().set_yscale(\"log\")\n",
    "plt.xlabel('Class')\n",
    "plt.ylabel('Counts')\n",
    "plt.xlim(0, 15)\n",
    "plt.legend();"
   ]
  },
  {
   "cell_type": "code",
   "execution_count": 38,
   "metadata": {},
   "outputs": [],
   "source": [
    "# Build the flat probability arrays for both the galactic and extragalactic groups\n",
    "galactic_cut = train['hostgal_photoz'] == 0\n",
    "galactic_data = train[galactic_cut]\n",
    "extragalactic_data = train[~galactic_cut]\n",
    "\n",
    "galactic_classes = np.unique(train['target_id'])\n",
    "extragalactic_classes = np.unique(train['target_id'])\n",
    "\n",
    "# Add class 99 (id=14) to both groups.\n",
    "galactic_classes = np.append(galactic_classes, 14)\n",
    "extragalactic_classes = np.append(extragalactic_classes, 14)\n",
    "\n",
    "galactic_probabilities = np.zeros(15)\n",
    "galactic_probabilities[galactic_classes] = 1. / len(galactic_classes)\n",
    "extragalactic_probabilities = np.zeros(15)\n",
    "extragalactic_probabilities[extragalactic_classes] = 1. / len(extragalactic_classes)"
   ]
  },
  {
   "cell_type": "code",
   "execution_count": 39,
   "metadata": {},
   "outputs": [
    {
     "name": "stderr",
     "output_type": "stream",
     "text": [
      "100%|██████████| 7848/7848 [00:00<00:00, 30040.52it/s]\n"
     ]
    }
   ],
   "source": [
    "# Apply this prediction to a table\n",
    "import tqdm\n",
    "def do_prediction(table):\n",
    "    probs = []\n",
    "    for index, row in tqdm.tqdm(table.iterrows(), total=len(table)):\n",
    "        if row['hostgal_photoz'] == 0:\n",
    "            prob = galactic_probabilities\n",
    "        else:\n",
    "            prob = extragalactic_probabilities\n",
    "        probs.append(prob)\n",
    "    return np.array(probs)\n",
    "\n",
    "pred = do_prediction(train)\n",
    "# test_pred = do_prediction(test_meta_data)"
   ]
  },
  {
   "cell_type": "code",
   "execution_count": 40,
   "metadata": {},
   "outputs": [
    {
     "data": {
      "text/plain": [
       "array([[0.06666667, 0.06666667, 0.06666667, ..., 0.06666667, 0.06666667,\n",
       "        0.06666667],\n",
       "       [0.06666667, 0.06666667, 0.06666667, ..., 0.06666667, 0.06666667,\n",
       "        0.06666667],\n",
       "       [0.06666667, 0.06666667, 0.06666667, ..., 0.06666667, 0.06666667,\n",
       "        0.06666667],\n",
       "       ...,\n",
       "       [0.06666667, 0.06666667, 0.06666667, ..., 0.06666667, 0.06666667,\n",
       "        0.06666667],\n",
       "       [0.06666667, 0.06666667, 0.06666667, ..., 0.06666667, 0.06666667,\n",
       "        0.06666667],\n",
       "       [0.06666667, 0.06666667, 0.06666667, ..., 0.06666667, 0.06666667,\n",
       "        0.06666667]])"
      ]
     },
     "execution_count": 40,
     "metadata": {},
     "output_type": "execute_result"
    }
   ],
   "source": [
    "pred"
   ]
  },
  {
   "cell_type": "code",
   "execution_count": 3,
   "metadata": {},
   "outputs": [],
   "source": [
    "test = pd.read_csv('../output/processed_test_1.3.csv')"
   ]
  },
  {
   "cell_type": "code",
   "execution_count": 4,
   "metadata": {},
   "outputs": [
    {
     "data": {
      "text/plain": [
       "(3102380, 67)"
      ]
     },
     "execution_count": 4,
     "metadata": {},
     "output_type": "execute_result"
    }
   ],
   "source": [
    "test[test['hostgal_photoz'] > 0].shape"
   ]
  },
  {
   "cell_type": "code",
   "execution_count": 5,
   "metadata": {},
   "outputs": [
    {
     "data": {
      "text/plain": [
       "(390510, 67)"
      ]
     },
     "execution_count": 5,
     "metadata": {},
     "output_type": "execute_result"
    }
   ],
   "source": [
    "test[test['hostgal_photoz'] == 0].shape"
   ]
  },
  {
   "cell_type": "markdown",
   "metadata": {},
   "source": [
    "Most objects in test set are extra-galactic."
   ]
  }
 ],
 "metadata": {
  "kernelspec": {
   "display_name": "Python 3",
   "language": "python",
   "name": "python3"
  },
  "language_info": {
   "codemirror_mode": {
    "name": "ipython",
    "version": 3
   },
   "file_extension": ".py",
   "mimetype": "text/x-python",
   "name": "python",
   "nbconvert_exporter": "python",
   "pygments_lexer": "ipython3",
   "version": "3.6.7"
  }
 },
 "nbformat": 4,
 "nbformat_minor": 2
}
